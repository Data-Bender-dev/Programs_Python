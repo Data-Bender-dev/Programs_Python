{
  "nbformat": 4,
  "nbformat_minor": 0,
  "metadata": {
    "colab": {
      "provenance": [],
      "authorship_tag": "ABX9TyM9QAnzCi72UPfTgWXPhe6E",
      "include_colab_link": true
    },
    "kernelspec": {
      "name": "python3",
      "display_name": "Python 3"
    },
    "language_info": {
      "name": "python"
    }
  },
  "cells": [
    {
      "cell_type": "markdown",
      "metadata": {
        "id": "view-in-github",
        "colab_type": "text"
      },
      "source": [
        "<a href=\"https://colab.research.google.com/github/Data-Bender-dev/Programs_Python/blob/main/Common_Python_Problems.ipynb\" target=\"_parent\"><img src=\"https://colab.research.google.com/assets/colab-badge.svg\" alt=\"Open In Colab\"/></a>"
      ]
    },
    {
      "cell_type": "code",
      "source": [
        "# To check if number is odd/even using lambda,recursion\n",
        "\n",
        "#Using lambda\n",
        "'''\n",
        "x = lambda a: \"even\" if a % 2 == 0 else \"odd\"\n",
        "\n",
        "i = int(input(\"Enter number: \"))\n",
        "\n",
        "res = x(i)\n",
        "\n",
        "print(f\"{i} is {res} \")\n",
        "'''\n",
        "\n",
        "#using recursion\n",
        "'''\n",
        "def check(n):\n",
        "  if n ==0:\n",
        "    return True\n",
        "  elif n==1:\n",
        "    return False\n",
        "  return check(n-2)\n",
        "\n",
        "i = int(input(\"Enter number: \"))\n",
        "\n",
        "res = \"even\" if check(i) else \"odd\"\n",
        "\n",
        "print(f\"{i} is {res} \")\n",
        "'''"
      ],
      "metadata": {
        "colab": {
          "base_uri": "https://localhost:8080/"
        },
        "id": "DjulUQe-N8VG",
        "outputId": "4ab8a407-0f34-4c46-f604-5292475b0f6c"
      },
      "execution_count": 4,
      "outputs": [
        {
          "output_type": "stream",
          "name": "stdout",
          "text": [
            "Enter number: 3\n",
            "3 is odd \n"
          ]
        }
      ]
    },
    {
      "cell_type": "code",
      "source": [
        "#Check num is positive or negative\n",
        "'''\n",
        "check = lambda n: \"Positive\" if n > 0 else (\"negative\" if n<0 else \"neutral\")\n",
        "\n",
        "i = int(input(\"Enter number: \"))\n",
        "\n",
        "res = check(i)\n",
        "\n",
        "print(f\"{i} is {res} \")\n",
        "'''"
      ],
      "metadata": {
        "colab": {
          "base_uri": "https://localhost:8080/"
        },
        "id": "NmECoaIFSKry",
        "outputId": "9071a505-2125-43dd-8378-4153ec49bf6f"
      },
      "execution_count": 6,
      "outputs": [
        {
          "output_type": "stream",
          "name": "stdout",
          "text": [
            "Enter number: 0\n",
            "0 is neutral \n"
          ]
        }
      ]
    },
    {
      "cell_type": "markdown",
      "source": [
        "'''\n",
        "get_odd_even = lambda n: (\n",
        "    [i for i in range(n+1) if i % 2 != 0],\n",
        "    [i for i in range(n+1) if i % 2 == 0]\n",
        ")\n",
        "\n",
        "# Example usage:\n",
        "odd_numbers, even_numbers = get_odd_even(10)\n",
        "\n",
        "print(\"Odd numbers:\", odd_numbers)  # Output: Odd numbers: [1, 3, 5, 7, 9]\n",
        "print(\"Even numbers:\", even_numbers)\n",
        "'''"
      ],
      "metadata": {
        "id": "60U3wCYETCop"
      }
    },
    {
      "cell_type": "code",
      "source": [
        "# check number is palindrome\n",
        "'''\n",
        "n = int(input(\"Enter number: \"))\n",
        "\n",
        "temp = str(n)\n",
        "\n",
        "rev = temp[::-1]\n",
        "\n",
        "if temp==rev:\n",
        "  print(\"Number is palindrome\")\n",
        "else:\n",
        "  print(\"not palindrome\")\n",
        "'''\n"
      ],
      "metadata": {
        "colab": {
          "base_uri": "https://localhost:8080/"
        },
        "id": "vhqKF8qfVUq-",
        "outputId": "653ce873-c5d1-4968-ab6b-c39cb17e3665"
      },
      "execution_count": 20,
      "outputs": [
        {
          "output_type": "stream",
          "name": "stdout",
          "text": [
            "Enter number: 12\n",
            "not palindrome\n"
          ]
        }
      ]
    },
    {
      "cell_type": "code",
      "source": [
        "'''\n",
        "def reverse_number(num):\n",
        "  \"\"\"\n",
        "  Reverses a given integer.\n",
        "\n",
        "  Args:\n",
        "    num: The integer to be reversed.\n",
        "\n",
        "  Returns:\n",
        "    The reversed integer.\n",
        "  \"\"\"\n",
        "  if num < 0:\n",
        "    return -int(str(-num)[::-1])  # Handle negative numbers\n",
        "  else:\n",
        "    return int(str(num)[::-1])\n",
        "\n",
        "# Example usage:\n",
        "number = -12345\n",
        "reversed_number = reverse_number(number)\n",
        "print(\"Reversed number:\", reversed_number)\n",
        "'''"
      ],
      "metadata": {
        "colab": {
          "base_uri": "https://localhost:8080/"
        },
        "id": "7opse_r3YTTx",
        "outputId": "e71320ab-5f2a-4e48-f45b-836d61f4923c"
      },
      "execution_count": 23,
      "outputs": [
        {
          "output_type": "stream",
          "name": "stdout",
          "text": [
            "Reversed number: -54321\n"
          ]
        }
      ]
    },
    {
      "cell_type": "code",
      "source": [
        "# print all integers aren't divisible by 2 or 3\n",
        "n=100\n",
        "x=8\n",
        "for i in range(1,n+1):\n",
        "  if i%x ==0:\n",
        "    print(i,end=\" \")"
      ],
      "metadata": {
        "colab": {
          "base_uri": "https://localhost:8080/"
        },
        "id": "MW-2b47KZufo",
        "outputId": "e4c45a97-c93c-4330-8108-a078a196e12f"
      },
      "execution_count": 31,
      "outputs": [
        {
          "output_type": "stream",
          "name": "stdout",
          "text": [
            "8 16 24 32 40 48 56 64 72 80 88 96 "
          ]
        }
      ]
    },
    {
      "cell_type": "code",
      "source": [
        "#sm of integers\n",
        "nums = lambda n :0 if n==0 else n+nums(n-1)\n",
        "print(nums(4))"
      ],
      "metadata": {
        "colab": {
          "base_uri": "https://localhost:8080/"
        },
        "id": "wul4NRHvdgIz",
        "outputId": "71150553-5725-477b-a885-318e76abeb6a"
      },
      "execution_count": 37,
      "outputs": [
        {
          "output_type": "stream",
          "name": "stdout",
          "text": [
            "10\n"
          ]
        }
      ]
    },
    {
      "cell_type": "code",
      "source": [
        "#Count of numbers in given digit\n",
        "\n",
        "def count(n):\n",
        "  if n == 0:\n",
        "    return 1\n",
        "  c = 0\n",
        "  while n > 0:\n",
        "    n //= 10\n",
        "    c += 1\n",
        "  return c\n",
        "cx = count(12345)\n",
        "print(\"Total count: \",cx)"
      ],
      "metadata": {
        "colab": {
          "base_uri": "https://localhost:8080/"
        },
        "id": "J3pG7K1LuN1Z",
        "outputId": "938474ac-2ae6-43ce-bc88-fbde8168cc32"
      },
      "execution_count": 54,
      "outputs": [
        {
          "output_type": "stream",
          "name": "stdout",
          "text": [
            "Total count:  5\n"
          ]
        }
      ]
    },
    {
      "cell_type": "code",
      "source": [
        "# find all divisors of integer\n",
        "def divisor(n):\n",
        "  if n==0:\n",
        "    return 1\n",
        "  for i in range(1,int(n**0.5)+1):\n",
        "    if n%i ==0:\n",
        "      print(i,end=\" \")\n",
        "      if i!=n//i:\n",
        "        print(n//i,end=\" \")\n",
        "n = int(input(\"Enter number: \"))\n",
        "divisor(n)"
      ],
      "metadata": {
        "colab": {
          "base_uri": "https://localhost:8080/"
        },
        "id": "sqUqy18ivSO7",
        "outputId": "78019127-aae9-4f52-b494-c0a8833f1b7c"
      },
      "execution_count": 56,
      "outputs": [
        {
          "output_type": "stream",
          "name": "stdout",
          "text": [
            "Enter number: 5\n",
            "1 5 "
          ]
        }
      ]
    },
    {
      "cell_type": "code",
      "source": [
        "def find_smallest_divisor(n):\n",
        "  \"\"\"\n",
        "  Finds the smallest divisor of an integer greater than 1.\n",
        "\n",
        "  Args:\n",
        "    n: The integer for which to find the smallest divisor.\n",
        "\n",
        "  Returns:\n",
        "    The smallest divisor of the integer if found, otherwise None.\n",
        "  \"\"\"\n",
        "  if n <= 1:\n",
        "    return None  # Handle cases where n is less than or equal to 1\n",
        "  for i in range(2, int(n**0.5) + 1):\n",
        "    if n % i == 0:\n",
        "      return i\n",
        "  return n  # If no other divisors found, the number itself is the smallest divisor\n",
        "\n",
        "# Example usage:\n",
        "num = 19\n",
        "smallest_divisor = find_smallest_divisor(num)\n",
        "\n",
        "if smallest_divisor:\n",
        "  print(f\"The smallest divisor of {num} is: {smallest_divisor}\")\n",
        "else:\n",
        "  print(f\"{num} is a prime number.\")"
      ],
      "metadata": {
        "colab": {
          "base_uri": "https://localhost:8080/"
        },
        "id": "zfd3LvvV4uU4",
        "outputId": "69b5e52b-539f-4b98-ab2c-e5b1df131951"
      },
      "execution_count": 59,
      "outputs": [
        {
          "output_type": "stream",
          "name": "stdout",
          "text": [
            "The smallest divisor of 19 is: 19\n"
          ]
        }
      ]
    },
    {
      "cell_type": "code",
      "source": [
        "#give binary equivalent of integer using recursion\n",
        "\n",
        "def Binary_equivalent(n):\n",
        "\n",
        "  if n ==0:\n",
        "    return \"0\"\n",
        "\n",
        "  binary = \"\"\n",
        "  while n>0:\n",
        "\n",
        "    remainder = n%2\n",
        "    binary = str(remainder) + binary\n",
        "    n //= 2\n",
        "\n",
        "  return binary\n",
        "\n",
        "n= int(input(\"Enter number: \"))\n",
        "\n",
        "d = Binary_equivalent(n)\n",
        "print(\"Binary: \",d)"
      ],
      "metadata": {
        "colab": {
          "base_uri": "https://localhost:8080/"
        },
        "id": "YfN158vh6KjH",
        "outputId": "c9a2d07b-a8ad-48b7-9f19-f8bd45108757"
      },
      "execution_count": 10,
      "outputs": [
        {
          "output_type": "stream",
          "name": "stdout",
          "text": [
            "Enter number: 34\n",
            "Binary:  100010\n"
          ]
        }
      ]
    },
    {
      "cell_type": "code",
      "source": [
        "#Table of given number\n",
        "n = int(input(\"Enter number\"))\n",
        "for i in range(1,11):\n",
        "  print(f\"{n} x {i} = {n*i}\")"
      ],
      "metadata": {
        "colab": {
          "base_uri": "https://localhost:8080/"
        },
        "id": "P3_cvpGT44TW",
        "outputId": "bd14013f-8b6f-4ec7-cdbd-6d86d3d66452"
      },
      "execution_count": 13,
      "outputs": [
        {
          "output_type": "stream",
          "name": "stdout",
          "text": [
            "Enter number5\n",
            "5 x 1 = 5\n",
            "5 x 2 = 10\n",
            "5 x 3 = 15\n",
            "5 x 4 = 20\n",
            "5 x 5 = 25\n",
            "5 x 6 = 30\n",
            "5 x 7 = 35\n",
            "5 x 8 = 40\n",
            "5 x 9 = 45\n",
            "5 x 10 = 50\n"
          ]
        }
      ]
    },
    {
      "cell_type": "code",
      "source": [],
      "metadata": {
        "id": "BUyXUOha5Xig"
      },
      "execution_count": null,
      "outputs": []
    }
  ]
}